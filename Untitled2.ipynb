{
 "cells": [
  {
   "cell_type": "code",
   "execution_count": null,
   "id": "68bc8148-7300-408d-9088-eb3f9306c8cd",
   "metadata": {},
   "outputs": [],
   "source": []
  },
  {
   "cell_type": "code",
   "execution_count": null,
   "id": "c6294cda-03a9-4c3d-8957-1307ac6c5ba4",
   "metadata": {},
   "outputs": [],
   "source": []
  },
  {
   "cell_type": "code",
   "execution_count": null,
   "id": "7cd145c9-7da1-46b0-914c-a81a4b519252",
   "metadata": {},
   "outputs": [],
   "source": []
  },
  {
   "cell_type": "code",
   "execution_count": null,
   "id": "ec2d28e2-2144-4b10-92f1-9cd228351933",
   "metadata": {},
   "outputs": [],
   "source": [
    "Predict the different species of flowers on\n",
    "the length of there petals and sepals"
   ]
  },
  {
   "cell_type": "code",
   "execution_count": 6,
   "id": "7432670c-5674-43a6-b0db-1a0a13030543",
   "metadata": {},
   "outputs": [
    {
     "name": "stdout",
     "output_type": "stream",
     "text": [
      "Predicted flowers: ['Versicolor', 'Setosa', 'Virginica', 'Versicolor', 'Versicolor', 'Setosa', 'Versicolor', 'Versicolor', 'Versicolor', 'Versicolor', 'Virginica', 'Setosa', 'Setosa', 'Setosa', 'Setosa', 'Versicolor', 'Virginica', 'Versicolor', 'Versicolor', 'Virginica', 'Setosa', 'Virginica', 'Setosa', 'Virginica', 'Virginica', 'Virginica', 'Virginica', 'Virginica', 'Setosa', 'Setosa']\n",
      "Actual flowers: ['Versicolor', 'Setosa', 'Virginica', 'Versicolor', 'Versicolor', 'Setosa', 'Versicolor', 'Virginica', 'Versicolor', 'Versicolor', 'Virginica', 'Setosa', 'Setosa', 'Setosa', 'Setosa', 'Versicolor', 'Virginica', 'Versicolor', 'Versicolor', 'Virginica', 'Setosa', 'Virginica', 'Setosa', 'Virginica', 'Virginica', 'Virginica', 'Virginica', 'Virginica', 'Setosa', 'Setosa']\n"
     ]
    }
   ],
   "source": [
    "from sklearn.datasets import load_iris\n",
    "from sklearn.model_selection import train_test_split\n",
    "from sklearn.neighbors import KNeighborsClassifier\n",
    "iris = load_iris()\n",
    "X = iris.data[:, [0, 2]]  # Considering sepal length and petal length\n",
    "y = iris.target\n",
    "X_train, X_test, y_train, y_test = train_test_split(X, y, test_size=0.2, random_state=42)\n",
    "knn = KNeighborsClassifier(n_neighbors=3)knn.fit(X_train, y_train)y_pred = knn.predict(X_test)species_names = {0: 'Setosa', 1: 'Versicolor', 2: 'Virginica'}\n",
    "predicted_flowers = [species_names[pred] for pred in y_pred]\n",
    "actual_flowers = [species_names[actual] for actual in y_test]\n",
    "print(\"Predicted flowers:\", predicted_flowers)\n",
    "print(\"Actual flowers:\", actual_flowers)\n"
   ]
  },
  {
   "cell_type": "code",
   "execution_count": null,
   "id": "9a5ad005-da74-4241-919f-87278a56d7d2",
   "metadata": {},
   "outputs": [],
   "source": []
  }
 ],
 "metadata": {
  "kernelspec": {
   "display_name": "Python 3 (ipykernel)",
   "language": "python",
   "name": "python3"
  },
  "language_info": {
   "codemirror_mode": {
    "name": "ipython",
    "version": 3
   },
   "file_extension": ".py",
   "mimetype": "text/x-python",
   "name": "python",
   "nbconvert_exporter": "python",
   "pygments_lexer": "ipython3",
   "version": "3.11.5"
  }
 },
 "nbformat": 4,
 "nbformat_minor": 5
}
